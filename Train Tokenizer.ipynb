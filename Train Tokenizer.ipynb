{
 "cells": [
  {
   "cell_type": "code",
   "execution_count": 1,
   "id": "c8523734-2a03-4f03-b4a3-22dabfc73e21",
   "metadata": {},
   "outputs": [],
   "source": [
    "from tokenizers import Tokenizer\n",
    "from tokenizers.models import BPE\n",
    "from tokenizers.trainers import BpeTrainer\n",
    "from tokenizers.pre_tokenizers import Whitespace, Digits, Sequence\n",
    "\n",
    "import pandas as pd"
   ]
  },
  {
   "cell_type": "code",
   "execution_count": 2,
   "id": "933af953-8808-4f15-ba24-86029c434983",
   "metadata": {},
   "outputs": [],
   "source": [
    "special_tokens= [\"[BLANK]\", \"[UNK]\", \"[CLS]\", \"[SEP]\", \"[PAD]\", \"[MASK]\"]"
   ]
  },
  {
   "cell_type": "code",
   "execution_count": 20,
   "id": "36b3abfb-5b89-41f2-b93f-06decbd1d3bc",
   "metadata": {},
   "outputs": [],
   "source": [
    "tokenizer = Tokenizer(BPE(unk_token=\"[UNK]\"))\n",
    "trainer = BpeTrainer(vocab_size = 1000, min_frequency = 5, special_tokens = special_tokens)\n",
    "\n",
    "tokenizer.pre_tokenizer = Sequence([Whitespace(), Digits(individual_digits=True)])"
   ]
  },
  {
   "cell_type": "code",
   "execution_count": 14,
   "id": "676db7a3-67f4-4b87-9178-a99a65b65176",
   "metadata": {},
   "outputs": [],
   "source": [
    "special_tokens_dict = {'pad_token': '[PAD]',\n",
    "                       'blank_token': '[BLANK]',\n",
    "                       'sep_token': '[SEP]',\n",
    "                       'mask_token': '[MASK]'}"
   ]
  },
  {
   "cell_type": "code",
   "execution_count": 18,
   "id": "46d3e621-fd82-49e6-b833-6437d75c02a6",
   "metadata": {},
   "outputs": [
    {
     "ename": "TypeError",
     "evalue": "Can't convert {'pad_token': '[PAD]', 'blank_token': '[BLANK]', 'sep_token': '[SEP]', 'mask_token': '[MASK]'} to PyList",
     "output_type": "error",
     "traceback": [
      "\u001b[0;31m---------------------------------------------------------------------------\u001b[0m",
      "\u001b[0;31mTypeError\u001b[0m                                 Traceback (most recent call last)",
      "Input \u001b[0;32mIn [18]\u001b[0m, in \u001b[0;36m<cell line: 1>\u001b[0;34m()\u001b[0m\n\u001b[0;32m----> 1\u001b[0m \u001b[43mtokenizer\u001b[49m\u001b[38;5;241;43m.\u001b[39;49m\u001b[43madd_special_tokens\u001b[49m\u001b[43m(\u001b[49m\u001b[43mspecial_tokens_dict\u001b[49m\u001b[43m)\u001b[49m\n",
      "\u001b[0;31mTypeError\u001b[0m: Can't convert {'pad_token': '[PAD]', 'blank_token': '[BLANK]', 'sep_token': '[SEP]', 'mask_token': '[MASK]'} to PyList"
     ]
    }
   ],
   "source": [
    "tokenizer.add_special_tokens(special_tokens_dict)"
   ]
  },
  {
   "cell_type": "code",
   "execution_count": 4,
   "id": "1b4e1618-afc9-4708-8703-10b9d1748b88",
   "metadata": {},
   "outputs": [],
   "source": [
    "train_file = pd.read_csv('data/external/cv-corpus-8.0-2022-01-19/en/validated.tsv', sep = '\\t')"
   ]
  },
  {
   "cell_type": "code",
   "execution_count": 9,
   "id": "29cde257-ecfc-4325-8e1a-81c467921702",
   "metadata": {},
   "outputs": [],
   "source": [
    "train_sentences = train_file['sentence']\n",
    "train_sentences = train_sentences.drop_duplicates().dropna()"
   ]
  },
  {
   "cell_type": "code",
   "execution_count": 12,
   "id": "4174c92a-ca7b-425d-a3cc-1f5c7218a154",
   "metadata": {},
   "outputs": [
    {
     "name": "stdout",
     "output_type": "stream",
     "text": [
      "\n",
      "\n",
      "\n"
     ]
    }
   ],
   "source": [
    "tokenizer.train_from_iterator(iterator = train_sentences, trainer = trainer)"
   ]
  },
  {
   "cell_type": "code",
   "execution_count": 13,
   "id": "1e08ff9b-41cc-4405-9372-8c5de362372d",
   "metadata": {},
   "outputs": [],
   "source": [
    "tokenizer.save('data/tokenizer/trained_tokenizer.json')"
   ]
  },
  {
   "cell_type": "code",
   "execution_count": null,
   "id": "7a966509-f97d-48ae-8169-19eea635559d",
   "metadata": {},
   "outputs": [],
   "source": []
  }
 ],
 "metadata": {
  "kernelspec": {
   "display_name": "Speech",
   "language": "python",
   "name": "speech"
  },
  "language_info": {
   "codemirror_mode": {
    "name": "ipython",
    "version": 3
   },
   "file_extension": ".py",
   "mimetype": "text/x-python",
   "name": "python",
   "nbconvert_exporter": "python",
   "pygments_lexer": "ipython3",
   "version": "3.9.7"
  }
 },
 "nbformat": 4,
 "nbformat_minor": 5
}
