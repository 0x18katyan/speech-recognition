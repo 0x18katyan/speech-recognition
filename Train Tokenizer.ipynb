{
 "cells": [
  {
   "cell_type": "code",
   "execution_count": 1,
   "id": "c8523734-2a03-4f03-b4a3-22dabfc73e21",
   "metadata": {},
   "outputs": [],
   "source": [
    "from tokenizers import Tokenizer\n",
    "from tokenizers.models import BPE\n",
    "from tokenizers.trainers import BpeTrainer\n",
    "from tokenizers.pre_tokenizers import Whitespace, Digits, Sequence\n",
    "\n",
    "from tokenizers.processors import TemplateProcessing\n",
    "\n",
    "import pandas as pd\n",
    "\n",
    "from tokenizers import normalizers\n",
    "from tokenizers.normalizers import NFD, StripAccents, Lowercase"
   ]
  },
  {
   "cell_type": "code",
   "execution_count": 2,
   "id": "933af953-8808-4f15-ba24-86029c434983",
   "metadata": {},
   "outputs": [],
   "source": [
    "special_tokens= [\"[BLANK]\", \"[BOS]\", \"[EOS]\", \"[UNK]\", \"[CLS]\", \"[SEP]\", \"[PAD]\", \"[MASK]\"]"
   ]
  },
  {
   "cell_type": "code",
   "execution_count": 3,
   "id": "e00487c6-beb0-4bef-af06-2a2d0de6a748",
   "metadata": {},
   "outputs": [],
   "source": [
    "## Normalize Accents and convert english to english\n",
    "normalizer = normalizers.Sequence([NFD(), StripAccents(), Lowercase()])"
   ]
  },
  {
   "cell_type": "code",
   "execution_count": 4,
   "id": "36b3abfb-5b89-41f2-b93f-06decbd1d3bc",
   "metadata": {},
   "outputs": [],
   "source": [
    "tokenizer = Tokenizer(BPE(unk_token=\"[UNK]\"))\n",
    "trainer = BpeTrainer(vocab_size = 35, min_frequency = 5, special_tokens = special_tokens)\n",
    "\n",
    "tokenizer.normalizer = normalizer\n",
    "tokenizer.pre_tokenizer = Sequence([Whitespace(), Digits(individual_digits=True)])"
   ]
  },
  {
   "cell_type": "code",
   "execution_count": 5,
   "id": "1b4e1618-afc9-4708-8703-10b9d1748b88",
   "metadata": {},
   "outputs": [],
   "source": [
    "train_file = pd.read_csv('data/external/cv-corpus-8.0-2022-01-19/en/train.tsv', sep = '\\t')"
   ]
  },
  {
   "cell_type": "code",
   "execution_count": 6,
   "id": "29cde257-ecfc-4325-8e1a-81c467921702",
   "metadata": {},
   "outputs": [],
   "source": [
    "train_sentences = train_file['sentence']\n",
    "train_sentences = train_sentences.drop_duplicates().dropna()"
   ]
  },
  {
   "cell_type": "code",
   "execution_count": 7,
   "id": "4174c92a-ca7b-425d-a3cc-1f5c7218a154",
   "metadata": {},
   "outputs": [
    {
     "name": "stdout",
     "output_type": "stream",
     "text": [
      "\n",
      "\n",
      "\n"
     ]
    }
   ],
   "source": [
    "tokenizer.train_from_iterator(iterator = train_sentences, trainer = trainer)"
   ]
  },
  {
   "cell_type": "code",
   "execution_count": 8,
   "id": "980789d9-9b7c-4117-b768-64f59f7bd625",
   "metadata": {},
   "outputs": [],
   "source": [
    "tokenizer.post_processor = TemplateProcessing(\n",
    "    single=\"[BOS] $A [EOS]\",\n",
    "    special_tokens=[\n",
    "        (\"[BOS]\", tokenizer.token_to_id(\"[BOS]\")),\n",
    "        (\"[EOS]\", tokenizer.token_to_id(\"[EOS]\")),\n",
    "    ]\n",
    ")"
   ]
  },
  {
   "cell_type": "code",
   "execution_count": 9,
   "id": "1e08ff9b-41cc-4405-9372-8c5de362372d",
   "metadata": {},
   "outputs": [],
   "source": [
    "tokenizer.save('data/tokenizer/trained_tokenizer.json')"
   ]
  },
  {
   "cell_type": "code",
   "execution_count": 10,
   "id": "e058394a-62ac-44cf-92c1-545f6e6c6b0d",
   "metadata": {},
   "outputs": [
    {
     "data": {
      "text/plain": [
       "107"
      ]
     },
     "execution_count": 10,
     "metadata": {},
     "output_type": "execute_result"
    }
   ],
   "source": [
    "len(tokenizer.get_vocab())"
   ]
  },
  {
   "cell_type": "code",
   "execution_count": 11,
   "id": "5849d45d-68e6-4249-a850-299a9f485e41",
   "metadata": {},
   "outputs": [
    {
     "data": {
      "text/plain": [
       "{'л': 81,\n",
       " 'w': 50,\n",
       " '€': 95,\n",
       " '大': 100,\n",
       " 'm': 40,\n",
       " '先': 99,\n",
       " '#': 10,\n",
       " 'α': 71,\n",
       " 'ł': 67,\n",
       " '”': 92,\n",
       " 'в': 76,\n",
       " 'н': 82,\n",
       " '~': 54,\n",
       " '尚': 101,\n",
       " 'j': 37,\n",
       " 't': 47,\n",
       " 'r': 45,\n",
       " 'е': 77,\n",
       " '’': 90,\n",
       " '%': 11,\n",
       " 'p': 43,\n",
       " '≡': 97,\n",
       " ')': 15,\n",
       " '&': 12,\n",
       " 's': 46,\n",
       " 'x': 51,\n",
       " '´': 58,\n",
       " 'e': 32,\n",
       " '[CLS]': 4,\n",
       " '(': 14,\n",
       " '-': 17,\n",
       " '=': 22,\n",
       " '/': 19,\n",
       " 'a': 28,\n",
       " 'ð': 63,\n",
       " 'а': 75,\n",
       " 'ь': 83,\n",
       " '¡': 55,\n",
       " 'я': 84,\n",
       " '[EOS]': 2,\n",
       " 'z': 53,\n",
       " 'c': 30,\n",
       " 'v': 49,\n",
       " '生': 103,\n",
       " 'к': 80,\n",
       " '阪': 105,\n",
       " '[SEP]': 5,\n",
       " 'þ': 65,\n",
       " 'u': 48,\n",
       " 'n': 41,\n",
       " '§': 56,\n",
       " 'g': 34,\n",
       " 'd': 31,\n",
       " 'h': 35,\n",
       " '[BOS]': 1,\n",
       " '\"': 9,\n",
       " '·': 59,\n",
       " 'ø': 64,\n",
       " 'ע': 86,\n",
       " '[UNK]': 3,\n",
       " '[BLANK]': 0,\n",
       " 'נ': 85,\n",
       " 'κ': 72,\n",
       " '‘': 89,\n",
       " '都': 104,\n",
       " '!': 8,\n",
       " ';': 21,\n",
       " '[MASK]': 7,\n",
       " '–': 87,\n",
       " 'ß': 61,\n",
       " '“': 91,\n",
       " '—': 88,\n",
       " 'œ': 68,\n",
       " ':': 20,\n",
       " 'f': 33,\n",
       " 'и': 79,\n",
       " '…': 94,\n",
       " 'ﬂ': 106,\n",
       " '_': 26,\n",
       " ']': 25,\n",
       " '[PAD]': 6,\n",
       " 'ı': 66,\n",
       " '[': 24,\n",
       " 'b': 29,\n",
       " 'ʻ': 70,\n",
       " 'χ': 74,\n",
       " 'y': 52,\n",
       " 'i': 36,\n",
       " '«': 57,\n",
       " '„': 93,\n",
       " '京': 98,\n",
       " '`': 27,\n",
       " '时': 102,\n",
       " 'π': 73,\n",
       " 'k': 38,\n",
       " '→': 96,\n",
       " '»': 60,\n",
       " \"'\": 13,\n",
       " 'q': 44,\n",
       " 'з': 78,\n",
       " 'æ': 62,\n",
       " '.': 18,\n",
       " 'o': 42,\n",
       " 'l': 39,\n",
       " ',': 16,\n",
       " '?': 23,\n",
       " 'ə': 69}"
      ]
     },
     "execution_count": 11,
     "metadata": {},
     "output_type": "execute_result"
    }
   ],
   "source": [
    "tokenizer.get_vocab()"
   ]
  },
  {
   "cell_type": "code",
   "execution_count": 21,
   "id": "a4588419-31d0-470e-967a-e3214882a8a6",
   "metadata": {},
   "outputs": [
    {
     "data": {
      "text/plain": [
       "59"
      ]
     },
     "execution_count": 21,
     "metadata": {},
     "output_type": "execute_result"
    }
   ],
   "source": [
    "tokenizer.token_to_id('f')"
   ]
  },
  {
   "cell_type": "code",
   "execution_count": null,
   "id": "abfc4d2e-6c24-435c-94da-519b8e2f3a17",
   "metadata": {},
   "outputs": [],
   "source": []
  }
 ],
 "metadata": {
  "kernelspec": {
   "display_name": "Speech",
   "language": "python",
   "name": "speech"
  },
  "language_info": {
   "codemirror_mode": {
    "name": "ipython",
    "version": 3
   },
   "file_extension": ".py",
   "mimetype": "text/x-python",
   "name": "python",
   "nbconvert_exporter": "python",
   "pygments_lexer": "ipython3",
   "version": "3.9.12"
  }
 },
 "nbformat": 4,
 "nbformat_minor": 5
}
