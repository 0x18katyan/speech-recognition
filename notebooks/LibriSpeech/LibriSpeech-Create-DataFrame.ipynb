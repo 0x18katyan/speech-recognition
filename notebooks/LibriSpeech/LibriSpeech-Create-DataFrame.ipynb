{
 "cells": [
  {
   "cell_type": "code",
   "execution_count": 1,
   "id": "ea516e90-d0dc-420a-8698-509c6a1c4ced",
   "metadata": {},
   "outputs": [],
   "source": [
    "import pandas \n",
    "import glob\n",
    "import re\n",
    "import functools\n",
    "from pathlib import Path\n",
    "\n",
    "from os.path import join as pathjoin\n",
    "from os.path import abspath"
   ]
  },
  {
   "cell_type": "code",
   "execution_count": 2,
   "id": "f9014627-fdb9-44b6-b617-d71a06680fa5",
   "metadata": {},
   "outputs": [],
   "source": [
    "# string = \"\"\"103-1240-0047 AND I KNOW ANOTHER CASE WHERE AN ADOPTED BOY USED TO SUCK THE EGGS THEY COULDN'T BREAK HIM OF IT IF YOU HAD ASKED MY ADVICE IN THE MATTER WHICH YOU DIDN'T DO MARILLA I'D HAVE SAID FOR MERCY'S SAKE NOT TO THINK OF SUCH A THING THAT'S WHAT\n",
    "# 103-1240-0048 THIS JOB'S COMFORTING SEEMED NEITHER TO OFFEND NOR TO ALARM MARILLA SHE KNITTED STEADILY ON I DON'T DENY THERE'S SOMETHING IN WHAT YOU SAY RACHEL I'VE HAD SOME QUALMS MYSELF BUT MATTHEW WAS TERRIBLE SET ON IT I COULD SEE THAT SO I GAVE IN\n",
    "# 103-1240-0049 IT'S SO SELDOM MATTHEW SETS HIS MIND ON ANYTHING THAT WHEN HE DOES I ALWAYS FEEL IT'S MY DUTY TO GIVE IN AND AS FOR THE RISK THERE'S RISKS IN PRETTY NEAR EVERYTHING A BODY DOES IN THIS WORLD THERE'S RISKS IN PEOPLE'S HAVING CHILDREN OF THEIR OWN IF IT COMES TO THAT THEY DON'T ALWAYS TURN OUT WELL\n",
    "# \"\"\"\n",
    "# string_lines = string.splitlines()\n",
    "\n",
    "# for line in string_lines:\n",
    "#     print(re.match(r\"(\\d+-\\d+-\\d+) (\\D*)\", line).group(3))"
   ]
  },
  {
   "cell_type": "code",
   "execution_count": 3,
   "id": "f3e46ffc-24af-440b-a70a-2cdb39ee4b9c",
   "metadata": {},
   "outputs": [],
   "source": [
    "def get_transcripts_dataframe(dataset_path: str) -> pandas.core.frame.DataFrame:\n",
    "    \n",
    "    ## Convert string path to PosixPath\n",
    "    dataset_path = Path(dataset_path)\n",
    "    \n",
    "    ## Check if path exists\n",
    "    if dataset_path.exists() == False:\n",
    "        raise ValueError(f\"Please provide a valid path. Input Dataset Path: {dataset_path}\")\n",
    "    \n",
    "    ## Get all transcript files from the dataset path.\n",
    "    transcript_files = glob.glob(f'{dataset_path}/**/*trans.txt', recursive=True)\n",
    "    \n",
    "    ## Compose a callable function\n",
    "    read_func = functools.partial(pandas.read_csv, sep = r\"(\\d+-\\d+-\\d+) (\\D*)\", header= None, engine = \"python\", usecols=[1, 2], names = [\"filename\", \"sentence\"])\n",
    "\n",
    "    ## Read all files then concat them together\n",
    "    df = pandas.concat(map(read_func, transcript_files))\n",
    "    \n",
    "    ## Get the full filepath for each of the files\n",
    "    df['filepath'] = df['filename'].apply(lambda x:abspath(pathjoin(dataset_path, pathjoin(\"/\".join(x.split('-')[:2]), x) + '.flac')))\n",
    "    \n",
    "    ## Get the exact filename for the file\n",
    "    df['filename'] = df['filename']+ '.flac'\n",
    "    \n",
    "    return df"
   ]
  },
  {
   "cell_type": "code",
   "execution_count": 4,
   "id": "2ada44dc-b870-4c0e-be3d-50e6b5da6202",
   "metadata": {},
   "outputs": [],
   "source": [
    "dataset_path = \"../../data/external/train-clean-100/LibriSpeech/train-clean-100/\"\n",
    "dataset_path = Path(dataset_path)\n",
    "\n",
    "df = get_transcripts_dataframe(dataset_path)"
   ]
  },
  {
   "cell_type": "code",
   "execution_count": null,
   "id": "6bdb4f78-905c-4fed-9fed-939f44afd594",
   "metadata": {},
   "outputs": [
    {
     "data": {
      "text/html": [
       "<div>\n",
       "<style scoped>\n",
       "    .dataframe tbody tr th:only-of-type {\n",
       "        vertical-align: middle;\n",
       "    }\n",
       "\n",
       "    .dataframe tbody tr th {\n",
       "        vertical-align: top;\n",
       "    }\n",
       "\n",
       "    .dataframe thead th {\n",
       "        text-align: right;\n",
       "    }\n",
       "</style>\n",
       "<table border=\"1\" class=\"dataframe\">\n",
       "  <thead>\n",
       "    <tr style=\"text-align: right;\">\n",
       "      <th></th>\n",
       "      <th>filename</th>\n",
       "      <th>sentence</th>\n",
       "      <th>filepath</th>\n",
       "    </tr>\n",
       "  </thead>\n",
       "  <tbody>\n",
       "    <tr>\n",
       "      <th>0</th>\n",
       "      <td>6147-34607-0000.flac</td>\n",
       "      <td>ABOVE THIS COUPLE THERE WAS ANNE QUEEN OF ENGL...</td>\n",
       "      <td>/home/ashim/Projects/DeepSpeech/data/external/...</td>\n",
       "    </tr>\n",
       "    <tr>\n",
       "      <th>1</th>\n",
       "      <td>6147-34607-0001.flac</td>\n",
       "      <td>HER STOUTNESS WAS BLOATED HER FUN HEAVY HER GO...</td>\n",
       "      <td>/home/ashim/Projects/DeepSpeech/data/external/...</td>\n",
       "    </tr>\n",
       "    <tr>\n",
       "      <th>2</th>\n",
       "      <td>6147-34607-0002.flac</td>\n",
       "      <td>AS A CHRISTIAN SHE WAS A HERETIC AND A BIGOT S...</td>\n",
       "      <td>/home/ashim/Projects/DeepSpeech/data/external/...</td>\n",
       "    </tr>\n",
       "    <tr>\n",
       "      <th>3</th>\n",
       "      <td>6147-34607-0003.flac</td>\n",
       "      <td>THE REST OF HER PERSON WAS INDIFFERENTLY FORME...</td>\n",
       "      <td>/home/ashim/Projects/DeepSpeech/data/external/...</td>\n",
       "    </tr>\n",
       "    <tr>\n",
       "      <th>4</th>\n",
       "      <td>6147-34607-0004.flac</td>\n",
       "      <td>SHE HAD A NARROW FOREHEAD SENSUAL LIPS FLESHY ...</td>\n",
       "      <td>/home/ashim/Projects/DeepSpeech/data/external/...</td>\n",
       "    </tr>\n",
       "  </tbody>\n",
       "</table>\n",
       "</div>"
      ],
      "text/plain": [
       "               filename                                           sentence  \\\n",
       "0  6147-34607-0000.flac  ABOVE THIS COUPLE THERE WAS ANNE QUEEN OF ENGL...   \n",
       "1  6147-34607-0001.flac  HER STOUTNESS WAS BLOATED HER FUN HEAVY HER GO...   \n",
       "2  6147-34607-0002.flac  AS A CHRISTIAN SHE WAS A HERETIC AND A BIGOT S...   \n",
       "3  6147-34607-0003.flac  THE REST OF HER PERSON WAS INDIFFERENTLY FORME...   \n",
       "4  6147-34607-0004.flac  SHE HAD A NARROW FOREHEAD SENSUAL LIPS FLESHY ...   \n",
       "\n",
       "                                            filepath  \n",
       "0  /home/ashim/Projects/DeepSpeech/data/external/...  \n",
       "1  /home/ashim/Projects/DeepSpeech/data/external/...  \n",
       "2  /home/ashim/Projects/DeepSpeech/data/external/...  \n",
       "3  /home/ashim/Projects/DeepSpeech/data/external/...  \n",
       "4  /home/ashim/Projects/DeepSpeech/data/external/...  "
      ]
     },
     "execution_count": 5,
     "metadata": {},
     "output_type": "execute_result"
    }
   ],
   "source": [
    "df.head()"
   ]
  },
  {
   "cell_type": "code",
   "execution_count": null,
   "id": "6adf6b8f-7432-4715-9f1d-244d03c43a1a",
   "metadata": {},
   "outputs": [
    {
     "data": {
      "text/plain": [
       "'6147-34607-0000.flac'"
      ]
     },
     "execution_count": 6,
     "metadata": {},
     "output_type": "execute_result"
    }
   ],
   "source": [
    "df.iloc[0]['filename']"
   ]
  },
  {
   "cell_type": "code",
   "execution_count": null,
   "id": "c76c1290-c678-44fc-bbd6-043a1338152f",
   "metadata": {},
   "outputs": [
    {
     "data": {
      "text/plain": [
       "'ABOVE THIS COUPLE THERE WAS ANNE QUEEN OF ENGLAND AN ORDINARY WOMAN WAS QUEEN ANNE SHE WAS GAY KINDLY AUGUST TO A CERTAIN EXTENT NO QUALITY OF HERS ATTAINED TO VIRTUE NONE TO VICE'"
      ]
     },
     "execution_count": 7,
     "metadata": {},
     "output_type": "execute_result"
    }
   ],
   "source": [
    "df.iloc[0]['sentence']"
   ]
  },
  {
   "cell_type": "code",
   "execution_count": null,
   "id": "d5d26dd5-cbab-415b-ae74-3341e3964da9",
   "metadata": {},
   "outputs": [
    {
     "data": {
      "text/plain": [
       "'/home/ashim/Projects/DeepSpeech/data/external/train-clean-100/6147/34607/6147-34607-0000.flac'"
      ]
     },
     "execution_count": 8,
     "metadata": {},
     "output_type": "execute_result"
    }
   ],
   "source": [
    "df.iloc[0]['filepath']"
   ]
  },
  {
   "cell_type": "code",
   "execution_count": 9,
   "id": "c3af8f60-b85d-4eac-a392-858fefafe0fb",
   "metadata": {},
   "outputs": [
    {
     "data": {
      "text/html": [
       "<div>\n",
       "<style scoped>\n",
       "    .dataframe tbody tr th:only-of-type {\n",
       "        vertical-align: middle;\n",
       "    }\n",
       "\n",
       "    .dataframe tbody tr th {\n",
       "        vertical-align: top;\n",
       "    }\n",
       "\n",
       "    .dataframe thead th {\n",
       "        text-align: right;\n",
       "    }\n",
       "</style>\n",
       "<table border=\"1\" class=\"dataframe\">\n",
       "  <thead>\n",
       "    <tr style=\"text-align: right;\">\n",
       "      <th></th>\n",
       "      <th>filename</th>\n",
       "      <th>sentence</th>\n",
       "      <th>filepath</th>\n",
       "    </tr>\n",
       "  </thead>\n",
       "  <tbody>\n",
       "    <tr>\n",
       "      <th>0</th>\n",
       "      <td>6147-34607-0000.flac</td>\n",
       "      <td>ABOVE THIS COUPLE THERE WAS ANNE QUEEN OF ENGL...</td>\n",
       "      <td>/home/ashim/Projects/DeepSpeech/data/external/...</td>\n",
       "    </tr>\n",
       "    <tr>\n",
       "      <th>1</th>\n",
       "      <td>6147-34607-0001.flac</td>\n",
       "      <td>HER STOUTNESS WAS BLOATED HER FUN HEAVY HER GO...</td>\n",
       "      <td>/home/ashim/Projects/DeepSpeech/data/external/...</td>\n",
       "    </tr>\n",
       "    <tr>\n",
       "      <th>2</th>\n",
       "      <td>6147-34607-0002.flac</td>\n",
       "      <td>AS A CHRISTIAN SHE WAS A HERETIC AND A BIGOT S...</td>\n",
       "      <td>/home/ashim/Projects/DeepSpeech/data/external/...</td>\n",
       "    </tr>\n",
       "    <tr>\n",
       "      <th>3</th>\n",
       "      <td>6147-34607-0003.flac</td>\n",
       "      <td>THE REST OF HER PERSON WAS INDIFFERENTLY FORME...</td>\n",
       "      <td>/home/ashim/Projects/DeepSpeech/data/external/...</td>\n",
       "    </tr>\n",
       "    <tr>\n",
       "      <th>4</th>\n",
       "      <td>6147-34607-0004.flac</td>\n",
       "      <td>SHE HAD A NARROW FOREHEAD SENSUAL LIPS FLESHY ...</td>\n",
       "      <td>/home/ashim/Projects/DeepSpeech/data/external/...</td>\n",
       "    </tr>\n",
       "    <tr>\n",
       "      <th>...</th>\n",
       "      <td>...</td>\n",
       "      <td>...</td>\n",
       "      <td>...</td>\n",
       "    </tr>\n",
       "    <tr>\n",
       "      <th>23</th>\n",
       "      <td>8770-295463-0023.flac</td>\n",
       "      <td>ABOUT NOON ON THE NINETEENTH OF NOVEMBER THE D...</td>\n",
       "      <td>/home/ashim/Projects/DeepSpeech/data/external/...</td>\n",
       "    </tr>\n",
       "    <tr>\n",
       "      <th>24</th>\n",
       "      <td>8770-295463-0024.flac</td>\n",
       "      <td>THERE WERE FIFTEEN THOUSAND PEOPLE WAITING</td>\n",
       "      <td>/home/ashim/Projects/DeepSpeech/data/external/...</td>\n",
       "    </tr>\n",
       "    <tr>\n",
       "      <th>25</th>\n",
       "      <td>8770-295463-0025.flac</td>\n",
       "      <td>WATCHING HER WHILE THE PRESIDENT OF THE UNITED...</td>\n",
       "      <td>/home/ashim/Projects/DeepSpeech/data/external/...</td>\n",
       "    </tr>\n",
       "    <tr>\n",
       "      <th>26</th>\n",
       "      <td>8770-295463-0026.flac</td>\n",
       "      <td>THE FACT THAT THE PRESIDENT WAS SPEAKING WAS S...</td>\n",
       "      <td>/home/ashim/Projects/DeepSpeech/data/external/...</td>\n",
       "    </tr>\n",
       "    <tr>\n",
       "      <th>27</th>\n",
       "      <td>8770-295463-0027.flac</td>\n",
       "      <td>WHICH THE PRESIDENT DECIDED TO ATTEND TAKING S...</td>\n",
       "      <td>/home/ashim/Projects/DeepSpeech/data/external/...</td>\n",
       "    </tr>\n",
       "  </tbody>\n",
       "</table>\n",
       "<p>28539 rows × 3 columns</p>\n",
       "</div>"
      ],
      "text/plain": [
       "                 filename                                           sentence  \\\n",
       "0    6147-34607-0000.flac  ABOVE THIS COUPLE THERE WAS ANNE QUEEN OF ENGL...   \n",
       "1    6147-34607-0001.flac  HER STOUTNESS WAS BLOATED HER FUN HEAVY HER GO...   \n",
       "2    6147-34607-0002.flac  AS A CHRISTIAN SHE WAS A HERETIC AND A BIGOT S...   \n",
       "3    6147-34607-0003.flac  THE REST OF HER PERSON WAS INDIFFERENTLY FORME...   \n",
       "4    6147-34607-0004.flac  SHE HAD A NARROW FOREHEAD SENSUAL LIPS FLESHY ...   \n",
       "..                    ...                                                ...   \n",
       "23  8770-295463-0023.flac  ABOUT NOON ON THE NINETEENTH OF NOVEMBER THE D...   \n",
       "24  8770-295463-0024.flac         THERE WERE FIFTEEN THOUSAND PEOPLE WAITING   \n",
       "25  8770-295463-0025.flac  WATCHING HER WHILE THE PRESIDENT OF THE UNITED...   \n",
       "26  8770-295463-0026.flac  THE FACT THAT THE PRESIDENT WAS SPEAKING WAS S...   \n",
       "27  8770-295463-0027.flac  WHICH THE PRESIDENT DECIDED TO ATTEND TAKING S...   \n",
       "\n",
       "                                             filepath  \n",
       "0   /home/ashim/Projects/DeepSpeech/data/external/...  \n",
       "1   /home/ashim/Projects/DeepSpeech/data/external/...  \n",
       "2   /home/ashim/Projects/DeepSpeech/data/external/...  \n",
       "3   /home/ashim/Projects/DeepSpeech/data/external/...  \n",
       "4   /home/ashim/Projects/DeepSpeech/data/external/...  \n",
       "..                                                ...  \n",
       "23  /home/ashim/Projects/DeepSpeech/data/external/...  \n",
       "24  /home/ashim/Projects/DeepSpeech/data/external/...  \n",
       "25  /home/ashim/Projects/DeepSpeech/data/external/...  \n",
       "26  /home/ashim/Projects/DeepSpeech/data/external/...  \n",
       "27  /home/ashim/Projects/DeepSpeech/data/external/...  \n",
       "\n",
       "[28539 rows x 3 columns]"
      ]
     },
     "execution_count": 9,
     "metadata": {},
     "output_type": "execute_result"
    }
   ],
   "source": [
    "df"
   ]
  },
  {
   "cell_type": "code",
   "execution_count": 11,
   "id": "54dcde18-c24c-42a1-b95e-f5bf4f9da1cf",
   "metadata": {},
   "outputs": [],
   "source": [
    "df.to_csv('../../data/external/train-clean-100.csv', index=None)"
   ]
  },
  {
   "cell_type": "code",
   "execution_count": null,
   "id": "9630722f-ab5d-4415-912f-f5cff397e2ba",
   "metadata": {},
   "outputs": [],
   "source": []
  }
 ],
 "metadata": {
  "kernelspec": {
   "display_name": "Speech",
   "language": "python",
   "name": "speech"
  },
  "language_info": {
   "codemirror_mode": {
    "name": "ipython",
    "version": 3
   },
   "file_extension": ".py",
   "mimetype": "text/x-python",
   "name": "python",
   "nbconvert_exporter": "python",
   "pygments_lexer": "ipython3",
   "version": "3.9.12"
  }
 },
 "nbformat": 4,
 "nbformat_minor": 5
}
