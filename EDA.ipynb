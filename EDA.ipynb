{
 "cells": [
  {
   "cell_type": "code",
   "execution_count": 1,
   "id": "eadb4f5c-555e-4288-b0bb-a8fb06591732",
   "metadata": {},
   "outputs": [],
   "source": [
    "import pandas as pd\n",
    "import seaborn as sns\n",
    "\n",
    "import torchaudio"
   ]
  },
  {
   "cell_type": "code",
   "execution_count": 2,
   "id": "c3fce45b-5cd0-4034-855f-f2d9e20ba2b1",
   "metadata": {},
   "outputs": [],
   "source": [
    "import os \n",
    "os.environ['TOKENIZERS_PARALLELISM'] = 'true'"
   ]
  },
  {
   "cell_type": "code",
   "execution_count": 3,
   "id": "20d8a04b-aa7d-4bbc-9e7f-6d4d3f35b97b",
   "metadata": {},
   "outputs": [],
   "source": [
    "from transformers import PreTrainedTokenizerFast"
   ]
  },
  {
   "cell_type": "code",
   "execution_count": 4,
   "id": "d823d22a-309f-40fb-9b81-396e4f9569c9",
   "metadata": {},
   "outputs": [],
   "source": [
    "tokenizer_file = 'data/tokenizer/trained_tokenizer.json'\n",
    "\n",
    "try: ##Check if tokenizer is defined\n",
    "    tokenizer\n",
    "\n",
    "except NameError as e: ## If tokenizer is not defined then initialize it\n",
    "    tokenizer = PreTrainedTokenizerFast(tokenizer_file=tokenizer_file)\n",
    "\n",
    "finally:\n",
    "    special_tokens_dict = {'pad_token': '[PAD]',\n",
    "                       'sep_token': '[SEP]',\n",
    "                       'mask_token': '[MASK]'}\n",
    "    \n",
    "    tokenizer.add_special_tokens(special_tokens_dict)\n",
    "    \n",
    "    blank_token = \"[PAD]\"\n",
    "    blank_token_id = tokenizer.vocab[blank_token]\n",
    "    \n",
    "    vocab_size = len(tokenizer)"
   ]
  },
  {
   "cell_type": "code",
   "execution_count": 5,
   "id": "3b2141fe-0b98-4dbc-a318-d01f4c3a74ee",
   "metadata": {},
   "outputs": [],
   "source": [
    "df = pd.read_csv('./data/external/cv-corpus-8.0-2022-01-19/en/train.tsv', sep = '\\t')"
   ]
  },
  {
   "cell_type": "code",
   "execution_count": 6,
   "id": "66ce3a48-f43b-40da-bf4f-1b5b9eb7252c",
   "metadata": {},
   "outputs": [],
   "source": [
    "df = df.drop(['gender', 'locale', 'client_id'], axis = 1)"
   ]
  },
  {
   "cell_type": "code",
   "execution_count": 7,
   "id": "6786eb35-eb8f-4c4b-8e2d-003235f7df62",
   "metadata": {},
   "outputs": [],
   "source": [
    "df = df.dropna(how = 'all', axis = 1)"
   ]
  },
  {
   "cell_type": "code",
   "execution_count": 8,
   "id": "12bae47b-dbdd-472a-a09e-7fb6790cc23d",
   "metadata": {},
   "outputs": [
    {
     "name": "stderr",
     "output_type": "stream",
     "text": [
      "/home/ashim/miniconda3/envs/speech/lib/python3.9/site-packages/seaborn/distributions.py:2619: FutureWarning: `distplot` is a deprecated function and will be removed in a future version. Please adapt your code to use either `displot` (a figure-level function with similar flexibility) or `histplot` (an axes-level function for histograms).\n",
      "  warnings.warn(msg, FutureWarning)\n"
     ]
    },
    {
     "data": {
      "text/plain": [
       "<AxesSubplot:xlabel='up_votes', ylabel='Density'>"
      ]
     },
     "execution_count": 8,
     "metadata": {},
     "output_type": "execute_result"
    },
    {
     "data": {
      "image/png": "[encoded data removed]",
      "text/plain": [
       "<Figure size 432x288 with 1 Axes>"
      ]
     },
     "metadata": {
      "needs_background": "light"
     },
     "output_type": "display_data"
    }
   ],
   "source": [
    "sns.distplot(df['up_votes'])"
   ]
  },
  {
   "cell_type": "code",
   "execution_count": 9,
   "id": "e8a89789-aa0f-476e-a707-42dd84573320",
   "metadata": {},
   "outputs": [
    {
     "data": {
      "text/html": [
       "<div>\n",
       "<style scoped>\n",
       "    .dataframe tbody tr th:only-of-type {\n",
       "        vertical-align: middle;\n",
       "    }\n",
       "\n",
       "    .dataframe tbody tr th {\n",
       "        vertical-align: top;\n",
       "    }\n",
       "\n",
       "    .dataframe thead th {\n",
       "        text-align: right;\n",
       "    }\n",
       "</style>\n",
       "<table border=\"1\" class=\"dataframe\">\n",
       "  <thead>\n",
       "    <tr style=\"text-align: right;\">\n",
       "      <th></th>\n",
       "      <th>path</th>\n",
       "      <th>sentence</th>\n",
       "      <th>up_votes</th>\n",
       "      <th>down_votes</th>\n",
       "      <th>age</th>\n",
       "      <th>accents</th>\n",
       "    </tr>\n",
       "  </thead>\n",
       "  <tbody>\n",
       "    <tr>\n",
       "      <th>3</th>\n",
       "      <td>common_voice_en_28449986.mp3</td>\n",
       "      <td>Eleva and Strum each house an elementary school.</td>\n",
       "      <td>2</td>\n",
       "      <td>1</td>\n",
       "      <td>NaN</td>\n",
       "      <td>NaN</td>\n",
       "    </tr>\n",
       "    <tr>\n",
       "      <th>15</th>\n",
       "      <td>common_voice_en_20783579.mp3</td>\n",
       "      <td>Trivers' theory is very powerful.</td>\n",
       "      <td>2</td>\n",
       "      <td>1</td>\n",
       "      <td>NaN</td>\n",
       "      <td>NaN</td>\n",
       "    </tr>\n",
       "    <tr>\n",
       "      <th>19</th>\n",
       "      <td>common_voice_en_23612307.mp3</td>\n",
       "      <td>The movie \"Owning Mahowny\" was based on Ross's...</td>\n",
       "      <td>2</td>\n",
       "      <td>1</td>\n",
       "      <td>twenties</td>\n",
       "      <td>NaN</td>\n",
       "    </tr>\n",
       "    <tr>\n",
       "      <th>21</th>\n",
       "      <td>common_voice_en_26972322.mp3</td>\n",
       "      <td>The invaders who reached the shore were repuls...</td>\n",
       "      <td>2</td>\n",
       "      <td>1</td>\n",
       "      <td>NaN</td>\n",
       "      <td>NaN</td>\n",
       "    </tr>\n",
       "    <tr>\n",
       "      <th>22</th>\n",
       "      <td>common_voice_en_26972323.mp3</td>\n",
       "      <td>Tracer ammunition was identified by painting t...</td>\n",
       "      <td>2</td>\n",
       "      <td>1</td>\n",
       "      <td>NaN</td>\n",
       "      <td>NaN</td>\n",
       "    </tr>\n",
       "    <tr>\n",
       "      <th>...</th>\n",
       "      <td>...</td>\n",
       "      <td>...</td>\n",
       "      <td>...</td>\n",
       "      <td>...</td>\n",
       "      <td>...</td>\n",
       "      <td>...</td>\n",
       "    </tr>\n",
       "    <tr>\n",
       "      <th>827084</th>\n",
       "      <td>common_voice_en_22130324.mp3</td>\n",
       "      <td>The inhabitants apparently all benefited from ...</td>\n",
       "      <td>2</td>\n",
       "      <td>1</td>\n",
       "      <td>thirties</td>\n",
       "      <td>United States English</td>\n",
       "    </tr>\n",
       "    <tr>\n",
       "      <th>827088</th>\n",
       "      <td>common_voice_en_22130402.mp3</td>\n",
       "      <td>The quickstep is elegant like the foxtrot and ...</td>\n",
       "      <td>2</td>\n",
       "      <td>1</td>\n",
       "      <td>thirties</td>\n",
       "      <td>United States English</td>\n",
       "    </tr>\n",
       "    <tr>\n",
       "      <th>827089</th>\n",
       "      <td>common_voice_en_22130406.mp3</td>\n",
       "      <td>This cartridge was originally designed as a bl...</td>\n",
       "      <td>2</td>\n",
       "      <td>1</td>\n",
       "      <td>thirties</td>\n",
       "      <td>United States English</td>\n",
       "    </tr>\n",
       "    <tr>\n",
       "      <th>827092</th>\n",
       "      <td>common_voice_en_22130493.mp3</td>\n",
       "      <td>I'm obviously not going to be revelling in the...</td>\n",
       "      <td>2</td>\n",
       "      <td>1</td>\n",
       "      <td>thirties</td>\n",
       "      <td>United States English</td>\n",
       "    </tr>\n",
       "    <tr>\n",
       "      <th>827098</th>\n",
       "      <td>common_voice_en_22130603.mp3</td>\n",
       "      <td>I have examples that prove it.</td>\n",
       "      <td>2</td>\n",
       "      <td>1</td>\n",
       "      <td>thirties</td>\n",
       "      <td>United States English</td>\n",
       "    </tr>\n",
       "  </tbody>\n",
       "</table>\n",
       "<p>128397 rows × 6 columns</p>\n",
       "</div>"
      ],
      "text/plain": [
       "                                path  \\\n",
       "3       common_voice_en_28449986.mp3   \n",
       "15      common_voice_en_20783579.mp3   \n",
       "19      common_voice_en_23612307.mp3   \n",
       "21      common_voice_en_26972322.mp3   \n",
       "22      common_voice_en_26972323.mp3   \n",
       "...                              ...   \n",
       "827084  common_voice_en_22130324.mp3   \n",
       "827088  common_voice_en_22130402.mp3   \n",
       "827089  common_voice_en_22130406.mp3   \n",
       "827092  common_voice_en_22130493.mp3   \n",
       "827098  common_voice_en_22130603.mp3   \n",
       "\n",
       "                                                 sentence  up_votes  \\\n",
       "3        Eleva and Strum each house an elementary school.         2   \n",
       "15                      Trivers' theory is very powerful.         2   \n",
       "19      The movie \"Owning Mahowny\" was based on Ross's...         2   \n",
       "21      The invaders who reached the shore were repuls...         2   \n",
       "22      Tracer ammunition was identified by painting t...         2   \n",
       "...                                                   ...       ...   \n",
       "827084  The inhabitants apparently all benefited from ...         2   \n",
       "827088  The quickstep is elegant like the foxtrot and ...         2   \n",
       "827089  This cartridge was originally designed as a bl...         2   \n",
       "827092  I'm obviously not going to be revelling in the...         2   \n",
       "827098                     I have examples that prove it.         2   \n",
       "\n",
       "        down_votes       age                accents  \n",
       "3                1       NaN                    NaN  \n",
       "15               1       NaN                    NaN  \n",
       "19               1  twenties                    NaN  \n",
       "21               1       NaN                    NaN  \n",
       "22               1       NaN                    NaN  \n",
       "...            ...       ...                    ...  \n",
       "827084           1  thirties  United States English  \n",
       "827088           1  thirties  United States English  \n",
       "827089           1  thirties  United States English  \n",
       "827092           1  thirties  United States English  \n",
       "827098           1  thirties  United States English  \n",
       "\n",
       "[128397 rows x 6 columns]"
      ]
     },
     "execution_count": 9,
     "metadata": {},
     "output_type": "execute_result"
    }
   ],
   "source": [
    "df[(df['up_votes'] - df['down_votes']) < 2]"
   ]
  },
  {
   "cell_type": "code",
   "execution_count": 10,
   "id": "23ade034-bcf4-4f14-909e-3c4357d7a7b7",
   "metadata": {},
   "outputs": [
    {
     "data": {
      "text/html": [
       "<div>\n",
       "<style scoped>\n",
       "    .dataframe tbody tr th:only-of-type {\n",
       "        vertical-align: middle;\n",
       "    }\n",
       "\n",
       "    .dataframe tbody tr th {\n",
       "        vertical-align: top;\n",
       "    }\n",
       "\n",
       "    .dataframe thead th {\n",
       "        text-align: right;\n",
       "    }\n",
       "</style>\n",
       "<table border=\"1\" class=\"dataframe\">\n",
       "  <thead>\n",
       "    <tr style=\"text-align: right;\">\n",
       "      <th></th>\n",
       "      <th>up_votes</th>\n",
       "      <th>down_votes</th>\n",
       "    </tr>\n",
       "  </thead>\n",
       "  <tbody>\n",
       "    <tr>\n",
       "      <th>count</th>\n",
       "      <td>864448.000000</td>\n",
       "      <td>864448.000000</td>\n",
       "    </tr>\n",
       "    <tr>\n",
       "      <th>mean</th>\n",
       "      <td>2.140156</td>\n",
       "      <td>0.173734</td>\n",
       "    </tr>\n",
       "    <tr>\n",
       "      <th>std</th>\n",
       "      <td>0.519669</td>\n",
       "      <td>0.408876</td>\n",
       "    </tr>\n",
       "    <tr>\n",
       "      <th>min</th>\n",
       "      <td>2.000000</td>\n",
       "      <td>0.000000</td>\n",
       "    </tr>\n",
       "    <tr>\n",
       "      <th>25%</th>\n",
       "      <td>2.000000</td>\n",
       "      <td>0.000000</td>\n",
       "    </tr>\n",
       "    <tr>\n",
       "      <th>50%</th>\n",
       "      <td>2.000000</td>\n",
       "      <td>0.000000</td>\n",
       "    </tr>\n",
       "    <tr>\n",
       "      <th>75%</th>\n",
       "      <td>2.000000</td>\n",
       "      <td>0.000000</td>\n",
       "    </tr>\n",
       "    <tr>\n",
       "      <th>max</th>\n",
       "      <td>94.000000</td>\n",
       "      <td>6.000000</td>\n",
       "    </tr>\n",
       "  </tbody>\n",
       "</table>\n",
       "</div>"
      ],
      "text/plain": [
       "            up_votes     down_votes\n",
       "count  864448.000000  864448.000000\n",
       "mean        2.140156       0.173734\n",
       "std         0.519669       0.408876\n",
       "min         2.000000       0.000000\n",
       "25%         2.000000       0.000000\n",
       "50%         2.000000       0.000000\n",
       "75%         2.000000       0.000000\n",
       "max        94.000000       6.000000"
      ]
     },
     "execution_count": 10,
     "metadata": {},
     "output_type": "execute_result"
    }
   ],
   "source": [
    "df.describe()"
   ]
  },
  {
   "cell_type": "code",
   "execution_count": 11,
   "id": "84834890-aa4f-4c4f-b17a-1246dddd364a",
   "metadata": {},
   "outputs": [],
   "source": [
    "df['words'] = df['sentence'].map(lambda x: len(x.split(' ')))"
   ]
  },
  {
   "cell_type": "code",
   "execution_count": 12,
   "id": "21ead308-004a-4e24-8229-2c5c1c8f50e5",
   "metadata": {},
   "outputs": [
    {
     "data": {
      "text/plain": [
       "<AxesSubplot:ylabel='Frequency'>"
      ]
     },
     "execution_count": 12,
     "metadata": {},
     "output_type": "execute_result"
    },
    {
     "data": {
      "image/png": "[encoded data removed]",
      "text/plain": [
       "<Figure size 432x288 with 1 Axes>"
      ]
     },
     "metadata": {
      "needs_background": "light"
     },
     "output_type": "display_data"
    }
   ],
   "source": [
    "df['words'].plot(kind = 'hist')"
   ]
  },
  {
   "cell_type": "code",
   "execution_count": 13,
   "id": "dde34e21-50bd-405a-9ebc-34e4dfe078d6",
   "metadata": {},
   "outputs": [],
   "source": [
    "df['characters'] = df['sentence'].map(lambda x: len(x))"
   ]
  },
  {
   "cell_type": "code",
   "execution_count": 14,
   "id": "f1c4ee58-2ba6-4bf6-8098-8ff4c966e757",
   "metadata": {},
   "outputs": [
    {
     "data": {
      "text/plain": [
       "<AxesSubplot:ylabel='Frequency'>"
      ]
     },
     "execution_count": 14,
     "metadata": {},
     "output_type": "execute_result"
    },
    {
     "data": {
      "image/png": "[encoded data removed]",
      "text/plain": [
       "<Figure size 432x288 with 1 Axes>"
      ]
     },
     "metadata": {
      "needs_background": "light"
     },
     "output_type": "display_data"
    }
   ],
   "source": [
    "df['characters'].plot(kind = 'hist')"
   ]
  },
  {
   "cell_type": "code",
   "execution_count": 15,
   "id": "60771633-afc0-4f90-a91a-9e2067a2576b",
   "metadata": {},
   "outputs": [
    {
     "data": {
      "text/html": [
       "<div>\n",
       "<style scoped>\n",
       "    .dataframe tbody tr th:only-of-type {\n",
       "        vertical-align: middle;\n",
       "    }\n",
       "\n",
       "    .dataframe tbody tr th {\n",
       "        vertical-align: top;\n",
       "    }\n",
       "\n",
       "    .dataframe thead th {\n",
       "        text-align: right;\n",
       "    }\n",
       "</style>\n",
       "<table border=\"1\" class=\"dataframe\">\n",
       "  <thead>\n",
       "    <tr style=\"text-align: right;\">\n",
       "      <th></th>\n",
       "      <th>up_votes</th>\n",
       "      <th>down_votes</th>\n",
       "      <th>words</th>\n",
       "      <th>characters</th>\n",
       "    </tr>\n",
       "  </thead>\n",
       "  <tbody>\n",
       "    <tr>\n",
       "      <th>count</th>\n",
       "      <td>864448.000000</td>\n",
       "      <td>864448.000000</td>\n",
       "      <td>864448.000000</td>\n",
       "      <td>864448.000000</td>\n",
       "    </tr>\n",
       "    <tr>\n",
       "      <th>mean</th>\n",
       "      <td>2.140156</td>\n",
       "      <td>0.173734</td>\n",
       "      <td>10.296428</td>\n",
       "      <td>63.076503</td>\n",
       "    </tr>\n",
       "    <tr>\n",
       "      <th>std</th>\n",
       "      <td>0.519669</td>\n",
       "      <td>0.408876</td>\n",
       "      <td>2.779394</td>\n",
       "      <td>18.966438</td>\n",
       "    </tr>\n",
       "    <tr>\n",
       "      <th>min</th>\n",
       "      <td>2.000000</td>\n",
       "      <td>0.000000</td>\n",
       "      <td>1.000000</td>\n",
       "      <td>1.000000</td>\n",
       "    </tr>\n",
       "    <tr>\n",
       "      <th>25%</th>\n",
       "      <td>2.000000</td>\n",
       "      <td>0.000000</td>\n",
       "      <td>8.000000</td>\n",
       "      <td>50.000000</td>\n",
       "    </tr>\n",
       "    <tr>\n",
       "      <th>50%</th>\n",
       "      <td>2.000000</td>\n",
       "      <td>0.000000</td>\n",
       "      <td>11.000000</td>\n",
       "      <td>64.000000</td>\n",
       "    </tr>\n",
       "    <tr>\n",
       "      <th>75%</th>\n",
       "      <td>2.000000</td>\n",
       "      <td>0.000000</td>\n",
       "      <td>13.000000</td>\n",
       "      <td>77.000000</td>\n",
       "    </tr>\n",
       "    <tr>\n",
       "      <th>max</th>\n",
       "      <td>94.000000</td>\n",
       "      <td>6.000000</td>\n",
       "      <td>40.000000</td>\n",
       "      <td>229.000000</td>\n",
       "    </tr>\n",
       "  </tbody>\n",
       "</table>\n",
       "</div>"
      ],
      "text/plain": [
       "            up_votes     down_votes          words     characters\n",
       "count  864448.000000  864448.000000  864448.000000  864448.000000\n",
       "mean        2.140156       0.173734      10.296428      63.076503\n",
       "std         0.519669       0.408876       2.779394      18.966438\n",
       "min         2.000000       0.000000       1.000000       1.000000\n",
       "25%         2.000000       0.000000       8.000000      50.000000\n",
       "50%         2.000000       0.000000      11.000000      64.000000\n",
       "75%         2.000000       0.000000      13.000000      77.000000\n",
       "max        94.000000       6.000000      40.000000     229.000000"
      ]
     },
     "execution_count": 15,
     "metadata": {},
     "output_type": "execute_result"
    }
   ],
   "source": [
    "df.describe()"
   ]
  },
  {
   "cell_type": "code",
   "execution_count": 16,
   "id": "470b25f4-d758-4d13-8d6a-5744d26d4b0a",
   "metadata": {},
   "outputs": [
    {
     "data": {
      "text/plain": [
       "<seaborn.axisgrid.FacetGrid at 0x7f8b60c1ca30>"
      ]
     },
     "execution_count": 16,
     "metadata": {},
     "output_type": "execute_result"
    },
    {
     "data": {
      "image/png": "[encoded data removed]",
      "text/plain": [
       "<Figure size 360x360 with 1 Axes>"
      ]
     },
     "metadata": {
      "needs_background": "light"
     },
     "output_type": "display_data"
    }
   ],
   "source": [
    "sns.displot(df['characters'])"
   ]
  },
  {
   "cell_type": "code",
   "execution_count": 17,
   "id": "76f58aa0-5fa6-4d87-800f-99fc5afa1c1b",
   "metadata": {},
   "outputs": [
    {
     "data": {
      "text/html": [
       "<div>\n",
       "<style scoped>\n",
       "    .dataframe tbody tr th:only-of-type {\n",
       "        vertical-align: middle;\n",
       "    }\n",
       "\n",
       "    .dataframe tbody tr th {\n",
       "        vertical-align: top;\n",
       "    }\n",
       "\n",
       "    .dataframe thead th {\n",
       "        text-align: right;\n",
       "    }\n",
       "</style>\n",
       "<table border=\"1\" class=\"dataframe\">\n",
       "  <thead>\n",
       "    <tr style=\"text-align: right;\">\n",
       "      <th></th>\n",
       "      <th>path</th>\n",
       "      <th>sentence</th>\n",
       "      <th>up_votes</th>\n",
       "      <th>down_votes</th>\n",
       "      <th>age</th>\n",
       "      <th>accents</th>\n",
       "      <th>words</th>\n",
       "      <th>characters</th>\n",
       "    </tr>\n",
       "  </thead>\n",
       "  <tbody>\n",
       "    <tr>\n",
       "      <th>7</th>\n",
       "      <td>common_voice_en_20293213.mp3</td>\n",
       "      <td>It rapidly became a bible for gardeners, self-...</td>\n",
       "      <td>2</td>\n",
       "      <td>0</td>\n",
       "      <td>NaN</td>\n",
       "      <td>NaN</td>\n",
       "      <td>13</td>\n",
       "      <td>101</td>\n",
       "    </tr>\n",
       "    <tr>\n",
       "      <th>77</th>\n",
       "      <td>common_voice_en_23687188.mp3</td>\n",
       "      <td>With improved transportation routes, such as Y...</td>\n",
       "      <td>2</td>\n",
       "      <td>1</td>\n",
       "      <td>NaN</td>\n",
       "      <td>NaN</td>\n",
       "      <td>14</td>\n",
       "      <td>109</td>\n",
       "    </tr>\n",
       "    <tr>\n",
       "      <th>98</th>\n",
       "      <td>common_voice_en_20009604.mp3</td>\n",
       "      <td>By freeing religion of supernaturalism, it wil...</td>\n",
       "      <td>2</td>\n",
       "      <td>0</td>\n",
       "      <td>fifties</td>\n",
       "      <td>Australian English</td>\n",
       "      <td>14</td>\n",
       "      <td>103</td>\n",
       "    </tr>\n",
       "    <tr>\n",
       "      <th>100</th>\n",
       "      <td>common_voice_en_19655186.mp3</td>\n",
       "      <td>A software distributor, for example, may seek ...</td>\n",
       "      <td>2</td>\n",
       "      <td>0</td>\n",
       "      <td>NaN</td>\n",
       "      <td>NaN</td>\n",
       "      <td>14</td>\n",
       "      <td>107</td>\n",
       "    </tr>\n",
       "    <tr>\n",
       "      <th>201</th>\n",
       "      <td>common_voice_en_20147452.mp3</td>\n",
       "      <td>Unfortunately, with several different ways of ...</td>\n",
       "      <td>2</td>\n",
       "      <td>0</td>\n",
       "      <td>NaN</td>\n",
       "      <td>NaN</td>\n",
       "      <td>13</td>\n",
       "      <td>102</td>\n",
       "    </tr>\n",
       "    <tr>\n",
       "      <th>...</th>\n",
       "      <td>...</td>\n",
       "      <td>...</td>\n",
       "      <td>...</td>\n",
       "      <td>...</td>\n",
       "      <td>...</td>\n",
       "      <td>...</td>\n",
       "      <td>...</td>\n",
       "      <td>...</td>\n",
       "    </tr>\n",
       "    <tr>\n",
       "      <th>864028</th>\n",
       "      <td>common_voice_en_28674231.mp3</td>\n",
       "      <td>The post-WrestleMania \"Raw\" has typically feat...</td>\n",
       "      <td>4</td>\n",
       "      <td>0</td>\n",
       "      <td>fifties</td>\n",
       "      <td>German English,Non native speaker</td>\n",
       "      <td>14</td>\n",
       "      <td>114</td>\n",
       "    </tr>\n",
       "    <tr>\n",
       "      <th>864248</th>\n",
       "      <td>common_voice_en_28732180.mp3</td>\n",
       "      <td>The academy provides a serious program for pre...</td>\n",
       "      <td>4</td>\n",
       "      <td>0</td>\n",
       "      <td>fifties</td>\n",
       "      <td>German English,Non native speaker</td>\n",
       "      <td>14</td>\n",
       "      <td>102</td>\n",
       "    </tr>\n",
       "    <tr>\n",
       "      <th>864250</th>\n",
       "      <td>common_voice_en_28732182.mp3</td>\n",
       "      <td>After operations have ceased, military organis...</td>\n",
       "      <td>4</td>\n",
       "      <td>0</td>\n",
       "      <td>fifties</td>\n",
       "      <td>German English,Non native speaker</td>\n",
       "      <td>13</td>\n",
       "      <td>101</td>\n",
       "    </tr>\n",
       "    <tr>\n",
       "      <th>864317</th>\n",
       "      <td>common_voice_en_28752779.mp3</td>\n",
       "      <td>Although Wortham was Browning's nephew and fir...</td>\n",
       "      <td>4</td>\n",
       "      <td>0</td>\n",
       "      <td>fifties</td>\n",
       "      <td>German English,Non native speaker</td>\n",
       "      <td>14</td>\n",
       "      <td>101</td>\n",
       "    </tr>\n",
       "    <tr>\n",
       "      <th>864419</th>\n",
       "      <td>common_voice_en_28823332.mp3</td>\n",
       "      <td>Within the Greens-European Free Alliance parli...</td>\n",
       "      <td>4</td>\n",
       "      <td>2</td>\n",
       "      <td>NaN</td>\n",
       "      <td>German English,Non native speaker</td>\n",
       "      <td>14</td>\n",
       "      <td>109</td>\n",
       "    </tr>\n",
       "  </tbody>\n",
       "</table>\n",
       "<p>13846 rows × 8 columns</p>\n",
       "</div>"
      ],
      "text/plain": [
       "                                path  \\\n",
       "7       common_voice_en_20293213.mp3   \n",
       "77      common_voice_en_23687188.mp3   \n",
       "98      common_voice_en_20009604.mp3   \n",
       "100     common_voice_en_19655186.mp3   \n",
       "201     common_voice_en_20147452.mp3   \n",
       "...                              ...   \n",
       "864028  common_voice_en_28674231.mp3   \n",
       "864248  common_voice_en_28732180.mp3   \n",
       "864250  common_voice_en_28732182.mp3   \n",
       "864317  common_voice_en_28752779.mp3   \n",
       "864419  common_voice_en_28823332.mp3   \n",
       "\n",
       "                                                 sentence  up_votes  \\\n",
       "7       It rapidly became a bible for gardeners, self-...         2   \n",
       "77      With improved transportation routes, such as Y...         2   \n",
       "98      By freeing religion of supernaturalism, it wil...         2   \n",
       "100     A software distributor, for example, may seek ...         2   \n",
       "201     Unfortunately, with several different ways of ...         2   \n",
       "...                                                   ...       ...   \n",
       "864028  The post-WrestleMania \"Raw\" has typically feat...         4   \n",
       "864248  The academy provides a serious program for pre...         4   \n",
       "864250  After operations have ceased, military organis...         4   \n",
       "864317  Although Wortham was Browning's nephew and fir...         4   \n",
       "864419  Within the Greens-European Free Alliance parli...         4   \n",
       "\n",
       "        down_votes      age                            accents  words  \\\n",
       "7                0      NaN                                NaN     13   \n",
       "77               1      NaN                                NaN     14   \n",
       "98               0  fifties                 Australian English     14   \n",
       "100              0      NaN                                NaN     14   \n",
       "201              0      NaN                                NaN     13   \n",
       "...            ...      ...                                ...    ...   \n",
       "864028           0  fifties  German English,Non native speaker     14   \n",
       "864248           0  fifties  German English,Non native speaker     14   \n",
       "864250           0  fifties  German English,Non native speaker     13   \n",
       "864317           0  fifties  German English,Non native speaker     14   \n",
       "864419           2      NaN  German English,Non native speaker     14   \n",
       "\n",
       "        characters  \n",
       "7              101  \n",
       "77             109  \n",
       "98             103  \n",
       "100            107  \n",
       "201            102  \n",
       "...            ...  \n",
       "864028         114  \n",
       "864248         102  \n",
       "864250         101  \n",
       "864317         101  \n",
       "864419         109  \n",
       "\n",
       "[13846 rows x 8 columns]"
      ]
     },
     "execution_count": 17,
     "metadata": {},
     "output_type": "execute_result"
    }
   ],
   "source": [
    "df[df['characters'] > 100]"
   ]
  },
  {
   "cell_type": "code",
   "execution_count": 18,
   "id": "1cac2b41-e341-4f32-83d0-29c0f5a1691c",
   "metadata": {},
   "outputs": [],
   "source": [
    "sentence_list = df['sentence'].values.tolist()"
   ]
  },
  {
   "cell_type": "code",
   "execution_count": 19,
   "id": "bb647709-1a2e-4334-83ed-f0b60e9b6765",
   "metadata": {},
   "outputs": [],
   "source": [
    "tokenized_dict = tokenizer(sentence_list, return_attention_mask=False, return_token_type_ids=False, return_special_tokens_mask=False, return_length=True)"
   ]
  },
  {
   "cell_type": "code",
   "execution_count": 20,
   "id": "c1d8bb36-50f2-4f63-b9b9-2ca25cc92a2a",
   "metadata": {},
   "outputs": [],
   "source": [
    "df['token_ids'] = tokenized_dict['input_ids']\n",
    "df['token_lengths'] = tokenized_dict['length']"
   ]
  },
  {
   "cell_type": "code",
   "execution_count": 21,
   "id": "b2249751-5e47-405a-bf48-3b81b70782a9",
   "metadata": {},
   "outputs": [
    {
     "data": {
      "text/plain": [
       "<seaborn.axisgrid.FacetGrid at 0x7f8c5d7ff160>"
      ]
     },
     "execution_count": 21,
     "metadata": {},
     "output_type": "execute_result"
    },
    {
     "data": {
      "image/png": "[encoded data removed]",
      "text/plain": [
       "<Figure size 360x360 with 1 Axes>"
      ]
     },
     "metadata": {
      "needs_background": "light"
     },
     "output_type": "display_data"
    }
   ],
   "source": [
    "sns.displot(df['token_lengths'])"
   ]
  },
  {
   "cell_type": "code",
   "execution_count": 22,
   "id": "bb768b9f-e03b-431d-afdb-93c459593ada",
   "metadata": {},
   "outputs": [
    {
     "data": {
      "text/html": [
       "<div>\n",
       "<style scoped>\n",
       "    .dataframe tbody tr th:only-of-type {\n",
       "        vertical-align: middle;\n",
       "    }\n",
       "\n",
       "    .dataframe tbody tr th {\n",
       "        vertical-align: top;\n",
       "    }\n",
       "\n",
       "    .dataframe thead th {\n",
       "        text-align: right;\n",
       "    }\n",
       "</style>\n",
       "<table border=\"1\" class=\"dataframe\">\n",
       "  <thead>\n",
       "    <tr style=\"text-align: right;\">\n",
       "      <th></th>\n",
       "      <th>up_votes</th>\n",
       "      <th>down_votes</th>\n",
       "      <th>words</th>\n",
       "      <th>characters</th>\n",
       "      <th>token_lengths</th>\n",
       "    </tr>\n",
       "  </thead>\n",
       "  <tbody>\n",
       "    <tr>\n",
       "      <th>count</th>\n",
       "      <td>864448.000000</td>\n",
       "      <td>864448.000000</td>\n",
       "      <td>864448.000000</td>\n",
       "      <td>864448.000000</td>\n",
       "      <td>864448.000000</td>\n",
       "    </tr>\n",
       "    <tr>\n",
       "      <th>mean</th>\n",
       "      <td>2.140156</td>\n",
       "      <td>0.173734</td>\n",
       "      <td>10.296428</td>\n",
       "      <td>63.076503</td>\n",
       "      <td>23.457702</td>\n",
       "    </tr>\n",
       "    <tr>\n",
       "      <th>std</th>\n",
       "      <td>0.519669</td>\n",
       "      <td>0.408876</td>\n",
       "      <td>2.779394</td>\n",
       "      <td>18.966438</td>\n",
       "      <td>7.306562</td>\n",
       "    </tr>\n",
       "    <tr>\n",
       "      <th>min</th>\n",
       "      <td>2.000000</td>\n",
       "      <td>0.000000</td>\n",
       "      <td>1.000000</td>\n",
       "      <td>1.000000</td>\n",
       "      <td>0.000000</td>\n",
       "    </tr>\n",
       "    <tr>\n",
       "      <th>25%</th>\n",
       "      <td>2.000000</td>\n",
       "      <td>0.000000</td>\n",
       "      <td>8.000000</td>\n",
       "      <td>50.000000</td>\n",
       "      <td>18.000000</td>\n",
       "    </tr>\n",
       "    <tr>\n",
       "      <th>50%</th>\n",
       "      <td>2.000000</td>\n",
       "      <td>0.000000</td>\n",
       "      <td>11.000000</td>\n",
       "      <td>64.000000</td>\n",
       "      <td>23.000000</td>\n",
       "    </tr>\n",
       "    <tr>\n",
       "      <th>75%</th>\n",
       "      <td>2.000000</td>\n",
       "      <td>0.000000</td>\n",
       "      <td>13.000000</td>\n",
       "      <td>77.000000</td>\n",
       "      <td>28.000000</td>\n",
       "    </tr>\n",
       "    <tr>\n",
       "      <th>max</th>\n",
       "      <td>94.000000</td>\n",
       "      <td>6.000000</td>\n",
       "      <td>40.000000</td>\n",
       "      <td>229.000000</td>\n",
       "      <td>81.000000</td>\n",
       "    </tr>\n",
       "  </tbody>\n",
       "</table>\n",
       "</div>"
      ],
      "text/plain": [
       "            up_votes     down_votes          words     characters  \\\n",
       "count  864448.000000  864448.000000  864448.000000  864448.000000   \n",
       "mean        2.140156       0.173734      10.296428      63.076503   \n",
       "std         0.519669       0.408876       2.779394      18.966438   \n",
       "min         2.000000       0.000000       1.000000       1.000000   \n",
       "25%         2.000000       0.000000       8.000000      50.000000   \n",
       "50%         2.000000       0.000000      11.000000      64.000000   \n",
       "75%         2.000000       0.000000      13.000000      77.000000   \n",
       "max        94.000000       6.000000      40.000000     229.000000   \n",
       "\n",
       "       token_lengths  \n",
       "count  864448.000000  \n",
       "mean       23.457702  \n",
       "std         7.306562  \n",
       "min         0.000000  \n",
       "25%        18.000000  \n",
       "50%        23.000000  \n",
       "75%        28.000000  \n",
       "max        81.000000  "
      ]
     },
     "execution_count": 22,
     "metadata": {},
     "output_type": "execute_result"
    }
   ],
   "source": [
    "df.describe()"
   ]
  },
  {
   "cell_type": "code",
   "execution_count": 23,
   "id": "66fe78da-edf2-476f-b385-561472818995",
   "metadata": {},
   "outputs": [],
   "source": [
    "datasetPATH = 'data/external/cv-corpus-8.0-2022-01-19/en/'\n",
    "clipsPATH = os.path.join(datasetPATH, 'clips')"
   ]
  },
  {
   "cell_type": "code",
   "execution_count": 24,
   "id": "14c53071-535e-41be-8eb1-29228cd61566",
   "metadata": {},
   "outputs": [],
   "source": [
    "from utils.preprocess import Preprocessing"
   ]
  },
  {
   "cell_type": "code",
   "execution_count": 25,
   "id": "f99ffa4a-1362-40c6-9104-73b6ed08f267",
   "metadata": {},
   "outputs": [],
   "source": [
    "preprocessing = Preprocessing(out_channels= 1, out_sampling_rate = 16000, tokenizer = tokenizer)"
   ]
  },
  {
   "cell_type": "code",
   "execution_count": 36,
   "id": "49397948-c442-457d-b2b5-3aa0a706412d",
   "metadata": {},
   "outputs": [],
   "source": [
    "def extract_time_length(item):\n",
    "\n",
    "    audio_file_path = os.path.join(clipsPATH, item['path'])\n",
    "\n",
    "    waveform, source_sampling_rate = torchaudio.load(audio_file_path)\n",
    "    waveform, out_sampling_rate = preprocessing.preprocess_waveform(waveform, source_sampling_rate)\n",
    "\n",
    "    melspec = preprocessing.extract_features(waveform)\n",
    "    \n",
    "    length = melspec.shape[1]\n",
    "    \n",
    "    return length"
   ]
  },
  {
   "cell_type": "code",
   "execution_count": null,
   "id": "2b4988ec-5422-4ddd-9740-d8d1fa37e394",
   "metadata": {},
   "outputs": [],
   "source": [
    "df['time'] = df.apply(extract_time_length, axis = 1)"
   ]
  },
  {
   "cell_type": "code",
   "execution_count": null,
   "id": "e925382a-de69-4416-9a84-9bea6f6b7b01",
   "metadata": {},
   "outputs": [],
   "source": []
  }
 ],
 "metadata": {
  "kernelspec": {
   "display_name": "Speech",
   "language": "python",
   "name": "speech"
  },
  "language_info": {
   "codemirror_mode": {
    "name": "ipython",
    "version": 3
   },
   "file_extension": ".py",
   "mimetype": "text/x-python",
   "name": "python",
   "nbconvert_exporter": "python",
   "pygments_lexer": "ipython3",
   "version": "3.9.7"
  }
 },
 "nbformat": 4,
 "nbformat_minor": 5
}
